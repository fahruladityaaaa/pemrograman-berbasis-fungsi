{
  "nbformat": 4,
  "nbformat_minor": 0,
  "metadata": {
    "colab": {
      "provenance": []
    },
    "kernelspec": {
      "name": "python3",
      "display_name": "Python 3"
    },
    "language_info": {
      "name": "python"
    }
  },
  "cells": [
    {
      "cell_type": "markdown",
      "source": [
        "2.1 Jenis fungsi dalam python"
      ],
      "metadata": {
        "id": "uFnp3QMZtxQL"
      }
    },
    {
      "cell_type": "code",
      "execution_count": null,
      "metadata": {
        "colab": {
          "base_uri": "https://localhost:8080/"
        },
        "id": "qDDob4bAktK1",
        "outputId": "d3b68e1f-320a-4b81-d8eb-e41d12dae97f"
      },
      "outputs": [
        {
          "output_type": "execute_result",
          "data": {
            "text/plain": [
              "25"
            ]
          },
          "metadata": {},
          "execution_count": 5
        }
      ],
      "source": [
        "def square(x):\n",
        "  y=x*x\n",
        "  return y\n",
        "square(5)\n"
      ]
    },
    {
      "cell_type": "code",
      "source": [
        "L=[1,2,3,8,5,98,1,0,-2]\n",
        "max(L)"
      ],
      "metadata": {
        "colab": {
          "base_uri": "https://localhost:8080/"
        },
        "id": "ssABRchMs6yr",
        "outputId": "975d5f8a-6ea0-4402-9e10-f69748ad3e97"
      },
      "execution_count": null,
      "outputs": [
        {
          "output_type": "execute_result",
          "data": {
            "text/plain": [
              "98"
            ]
          },
          "metadata": {},
          "execution_count": 3
        }
      ]
    },
    {
      "cell_type": "code",
      "source": [
        "def cube(x):\n",
        "  return x*x*x\n",
        "cube(10)"
      ],
      "metadata": {
        "colab": {
          "base_uri": "https://localhost:8080/"
        },
        "id": "oKtxbztmtQ_6",
        "outputId": "b6b18d4a-2e4a-42a2-843e-6ad6ceff496b"
      },
      "execution_count": null,
      "outputs": [
        {
          "output_type": "execute_result",
          "data": {
            "text/plain": [
              "1000"
            ]
          },
          "metadata": {},
          "execution_count": 4
        }
      ]
    },
    {
      "cell_type": "code",
      "source": [
        "import math\n",
        "math.sqrt(100)"
      ],
      "metadata": {
        "colab": {
          "base_uri": "https://localhost:8080/"
        },
        "id": "5LnA8FmgtkXa",
        "outputId": "633cfbb4-6cbe-4eab-bef2-ee6b8e21ff0e"
      },
      "execution_count": null,
      "outputs": [
        {
          "output_type": "execute_result",
          "data": {
            "text/plain": [
              "10.0"
            ]
          },
          "metadata": {},
          "execution_count": 6
        }
      ]
    },
    {
      "cell_type": "markdown",
      "source": [
        "2.2 Fungsi sebagai cara untuk modularisasi Algoritma"
      ],
      "metadata": {
        "id": "45qnSxAwt9Fq"
      }
    },
    {
      "cell_type": "code",
      "source": [
        "n=64\n",
        "faktors=[]\n",
        "for i in range(1,n+1):\n",
        "  if n % i ==0:\n",
        "    faktors.append(i)\n",
        "print(faktors)\n"
      ],
      "metadata": {
        "colab": {
          "base_uri": "https://localhost:8080/"
        },
        "id": "8l97OJ9uuFA5",
        "outputId": "d304927f-af43-4f39-884d-67ace317bd27"
      },
      "execution_count": null,
      "outputs": [
        {
          "output_type": "stream",
          "name": "stdout",
          "text": [
            "[1, 2, 4, 8, 16, 32, 64]\n"
          ]
        }
      ]
    },
    {
      "cell_type": "code",
      "source": [
        "def habis_dibagi(n,i):\n",
        "  return n % i ==0\n",
        "def faktor(n):\n",
        "  temp=[]\n",
        "  for i in range(1,n+1):\n",
        "    if habis_dibagi(n,i):\n",
        "      temp.append(i)\n",
        "  return temp\n",
        "faktor(64)"
      ],
      "metadata": {
        "colab": {
          "base_uri": "https://localhost:8080/"
        },
        "id": "toI7l4_huehq",
        "outputId": "ab5fd07f-c89c-4673-d682-71ae86a5b8c4"
      },
      "execution_count": null,
      "outputs": [
        {
          "output_type": "execute_result",
          "data": {
            "text/plain": [
              "[1, 2, 4, 8, 16, 32, 64]"
            ]
          },
          "metadata": {},
          "execution_count": 10
        }
      ]
    },
    {
      "cell_type": "code",
      "source": [
        "faktor(25)"
      ],
      "metadata": {
        "colab": {
          "base_uri": "https://localhost:8080/"
        },
        "id": "5THC0MoKvSUb",
        "outputId": "d8f8f012-377e-4172-97d7-120af165daf6"
      },
      "execution_count": null,
      "outputs": [
        {
          "output_type": "execute_result",
          "data": {
            "text/plain": [
              "[1, 5, 25]"
            ]
          },
          "metadata": {},
          "execution_count": 11
        }
      ]
    },
    {
      "cell_type": "markdown",
      "source": [
        "2.3 Anonymous Function"
      ],
      "metadata": {
        "id": "ZrxityZ3vW2E"
      }
    },
    {
      "cell_type": "code",
      "source": [
        "def rata(L):\n",
        "  res=0\n",
        "  for el in L:\n",
        "    res= res + el\n",
        "  res= res / len(L)\n",
        "  return res\n",
        "L= [1,2,3,4,5,6,7,8,9,10]\n",
        "rata(L)\n"
      ],
      "metadata": {
        "colab": {
          "base_uri": "https://localhost:8080/"
        },
        "id": "9Y03wkoWvZuC",
        "outputId": "b5588069-ee55-4e98-ca32-85af83b1d2fd"
      },
      "execution_count": null,
      "outputs": [
        {
          "output_type": "execute_result",
          "data": {
            "text/plain": [
              "5.5"
            ]
          },
          "metadata": {},
          "execution_count": 14
        }
      ]
    },
    {
      "cell_type": "code",
      "source": [
        "rata_lambda= lambda L : sum(L) / len(L)\n",
        "rata_lambda(L)"
      ],
      "metadata": {
        "colab": {
          "base_uri": "https://localhost:8080/"
        },
        "id": "My6aEIpDwA15",
        "outputId": "34ecfdd6-cdb4-490e-d2f7-7cd10a042325"
      },
      "execution_count": null,
      "outputs": [
        {
          "output_type": "execute_result",
          "data": {
            "text/plain": [
              "5.5"
            ]
          },
          "metadata": {},
          "execution_count": 15
        }
      ]
    },
    {
      "cell_type": "code",
      "source": [
        "greet= lambda : 'Hello World'\n",
        "greet()"
      ],
      "metadata": {
        "colab": {
          "base_uri": "https://localhost:8080/",
          "height": 35
        },
        "id": "andQzrELwO5a",
        "outputId": "9848c1c0-dd46-4c42-b66b-b818cb901776"
      },
      "execution_count": null,
      "outputs": [
        {
          "output_type": "execute_result",
          "data": {
            "text/plain": [
              "'Hello World'"
            ],
            "application/vnd.google.colaboratory.intrinsic+json": {
              "type": "string"
            }
          },
          "metadata": {},
          "execution_count": 16
        }
      ]
    },
    {
      "cell_type": "code",
      "source": [
        "greet= lambda name, gender: 'Hello ' + ('Mr.' if gender=='M' else 'Ms') + name\n",
        "greet('Satria', 'M')"
      ],
      "metadata": {
        "colab": {
          "base_uri": "https://localhost:8080/",
          "height": 35
        },
        "id": "n6rT-g-7wZEx",
        "outputId": "049e3491-5656-4b6e-a97e-97dd95d9259a"
      },
      "execution_count": null,
      "outputs": [
        {
          "output_type": "execute_result",
          "data": {
            "text/plain": [
              "'Hello Mr.Satria'"
            ],
            "application/vnd.google.colaboratory.intrinsic+json": {
              "type": "string"
            }
          },
          "metadata": {},
          "execution_count": 18
        }
      ]
    },
    {
      "cell_type": "code",
      "source": [
        "def helper(L):\n",
        "  res= 0\n",
        "  for el in L:\n",
        "    res= res + el\n",
        "  return res\n",
        "rata= lambda L: helper(L) / len(L)\n",
        "rata(L)"
      ],
      "metadata": {
        "colab": {
          "base_uri": "https://localhost:8080/"
        },
        "id": "yTqGqUNew0vy",
        "outputId": "bc411b72-432d-4b7a-c667-f14d5f4991a7"
      },
      "execution_count": null,
      "outputs": [
        {
          "output_type": "execute_result",
          "data": {
            "text/plain": [
              "5.5"
            ]
          },
          "metadata": {},
          "execution_count": 19
        }
      ]
    },
    {
      "cell_type": "markdown",
      "source": [
        "2.5 Lambda function direct calling"
      ],
      "metadata": {
        "id": "v_V9s0-LxQnh"
      }
    },
    {
      "cell_type": "code",
      "source": [
        "(lambda x: 'genap' if x%2==0 else 'ganjil') (10)"
      ],
      "metadata": {
        "colab": {
          "base_uri": "https://localhost:8080/",
          "height": 35
        },
        "id": "QjvYSzQGxWsZ",
        "outputId": "906d1845-1e55-4025-e358-d29f8bab1d4f"
      },
      "execution_count": null,
      "outputs": [
        {
          "output_type": "execute_result",
          "data": {
            "text/plain": [
              "'genap'"
            ],
            "application/vnd.google.colaboratory.intrinsic+json": {
              "type": "string"
            }
          },
          "metadata": {},
          "execution_count": 20
        }
      ]
    },
    {
      "cell_type": "code",
      "source": [
        "from functools import reduce"
      ],
      "metadata": {
        "id": "wPibLGx2yTPz"
      },
      "execution_count": null,
      "outputs": []
    },
    {
      "cell_type": "code",
      "source": [
        "val= [1,2,3,4,5,6]\n",
        "list(map(lambda x: x * 2, val))\n",
        "reduce(lambda x, y: x * y, val)"
      ],
      "metadata": {
        "colab": {
          "base_uri": "https://localhost:8080/"
        },
        "id": "mvVzMFoUxi45",
        "outputId": "3fbd0179-ef77-452b-8bed-5dc62b3bbd75"
      },
      "execution_count": null,
      "outputs": [
        {
          "output_type": "execute_result",
          "data": {
            "text/plain": [
              "720"
            ]
          },
          "metadata": {},
          "execution_count": 23
        }
      ]
    },
    {
      "cell_type": "markdown",
      "source": [
        "#3. Pemrograman Berbasis Fungsi pada Analisis Data"
      ],
      "metadata": {
        "id": "AKZn_HZ6y-4Z"
      }
    },
    {
      "cell_type": "markdown",
      "source": [
        "3.1.1 Data Preprocessing dengan pemrograman preosedural"
      ],
      "metadata": {
        "id": "qeKf8OYl3RXj"
      }
    },
    {
      "cell_type": "code",
      "source": [
        "import pandas as pd\n",
        "import numpy as np\n",
        "np.random.seed(42)\n",
        "\n",
        "def create_random_dataframe(nb_rows=1000, percent_na_per_column=[0.01, 0.1, 0.9]):\n",
        "  df= pd.DataFrame()\n",
        "  for i, percent_na in enumerate(percent_na_per_column):\n",
        "    values= [np.random.random() if np.random.random() > percent_na else np.nan for _ in range(nb_rows)]\n",
        "    df[f'val_{i}']= values\n",
        "  df.index= pd.date_range('2023/02/14', periods= nb_rows, freq= 'H')\n",
        "  return df\n",
        " \n",
        "def preprocess(df, na_percentage= 0.2, resampling_str= '2H'):\n",
        "  na_df= df.isna().sum() / len(df)\n",
        "  list_col_to_keep= na_df[na_df < na_percentage].index\n",
        "  df= df[list_col_to_keep]\n",
        "\n",
        "  df= df.resample(resampling_str).mean()\n",
        "  df= df.interpolate().ffill().bfill()\n",
        "  return df\n",
        "\n",
        "random_df= create_random_dataframe()\n",
        "res= preprocess(random_df)\n",
        "res"
      ],
      "metadata": {
        "id": "1_-BWJcRzWYp",
        "colab": {
          "base_uri": "https://localhost:8080/",
          "height": 423
        },
        "outputId": "6863a6e7-19f8-4c9d-c747-883a85cb3dcb"
      },
      "execution_count": null,
      "outputs": [
        {
          "output_type": "execute_result",
          "data": {
            "text/plain": [
              "                        val_0     val_1\n",
              "2023-02-14 00:00:00  0.774686  0.147131\n",
              "2023-02-14 02:00:00  0.511085  0.362957\n",
              "2023-02-14 04:00:00  0.838991  0.261706\n",
              "2023-02-14 06:00:00  0.197872  0.589102\n",
              "2023-02-14 08:00:00  0.407993  0.257553\n",
              "...                       ...       ...\n",
              "2023-03-27 06:00:00  0.674888  0.433584\n",
              "2023-03-27 08:00:00  0.685168  0.515360\n",
              "2023-03-27 10:00:00  0.822288  0.125944\n",
              "2023-03-27 12:00:00  0.281785  0.827302\n",
              "2023-03-27 14:00:00  0.612985  0.362622\n",
              "\n",
              "[500 rows x 2 columns]"
            ],
            "text/html": [
              "\n",
              "  <div id=\"df-c687e6d2-99c0-4160-82b4-a888f71ebbce\">\n",
              "    <div class=\"colab-df-container\">\n",
              "      <div>\n",
              "<style scoped>\n",
              "    .dataframe tbody tr th:only-of-type {\n",
              "        vertical-align: middle;\n",
              "    }\n",
              "\n",
              "    .dataframe tbody tr th {\n",
              "        vertical-align: top;\n",
              "    }\n",
              "\n",
              "    .dataframe thead th {\n",
              "        text-align: right;\n",
              "    }\n",
              "</style>\n",
              "<table border=\"1\" class=\"dataframe\">\n",
              "  <thead>\n",
              "    <tr style=\"text-align: right;\">\n",
              "      <th></th>\n",
              "      <th>val_0</th>\n",
              "      <th>val_1</th>\n",
              "    </tr>\n",
              "  </thead>\n",
              "  <tbody>\n",
              "    <tr>\n",
              "      <th>2023-02-14 00:00:00</th>\n",
              "      <td>0.774686</td>\n",
              "      <td>0.147131</td>\n",
              "    </tr>\n",
              "    <tr>\n",
              "      <th>2023-02-14 02:00:00</th>\n",
              "      <td>0.511085</td>\n",
              "      <td>0.362957</td>\n",
              "    </tr>\n",
              "    <tr>\n",
              "      <th>2023-02-14 04:00:00</th>\n",
              "      <td>0.838991</td>\n",
              "      <td>0.261706</td>\n",
              "    </tr>\n",
              "    <tr>\n",
              "      <th>2023-02-14 06:00:00</th>\n",
              "      <td>0.197872</td>\n",
              "      <td>0.589102</td>\n",
              "    </tr>\n",
              "    <tr>\n",
              "      <th>2023-02-14 08:00:00</th>\n",
              "      <td>0.407993</td>\n",
              "      <td>0.257553</td>\n",
              "    </tr>\n",
              "    <tr>\n",
              "      <th>...</th>\n",
              "      <td>...</td>\n",
              "      <td>...</td>\n",
              "    </tr>\n",
              "    <tr>\n",
              "      <th>2023-03-27 06:00:00</th>\n",
              "      <td>0.674888</td>\n",
              "      <td>0.433584</td>\n",
              "    </tr>\n",
              "    <tr>\n",
              "      <th>2023-03-27 08:00:00</th>\n",
              "      <td>0.685168</td>\n",
              "      <td>0.515360</td>\n",
              "    </tr>\n",
              "    <tr>\n",
              "      <th>2023-03-27 10:00:00</th>\n",
              "      <td>0.822288</td>\n",
              "      <td>0.125944</td>\n",
              "    </tr>\n",
              "    <tr>\n",
              "      <th>2023-03-27 12:00:00</th>\n",
              "      <td>0.281785</td>\n",
              "      <td>0.827302</td>\n",
              "    </tr>\n",
              "    <tr>\n",
              "      <th>2023-03-27 14:00:00</th>\n",
              "      <td>0.612985</td>\n",
              "      <td>0.362622</td>\n",
              "    </tr>\n",
              "  </tbody>\n",
              "</table>\n",
              "<p>500 rows × 2 columns</p>\n",
              "</div>\n",
              "      <button class=\"colab-df-convert\" onclick=\"convertToInteractive('df-c687e6d2-99c0-4160-82b4-a888f71ebbce')\"\n",
              "              title=\"Convert this dataframe to an interactive table.\"\n",
              "              style=\"display:none;\">\n",
              "        \n",
              "  <svg xmlns=\"http://www.w3.org/2000/svg\" height=\"24px\"viewBox=\"0 0 24 24\"\n",
              "       width=\"24px\">\n",
              "    <path d=\"M0 0h24v24H0V0z\" fill=\"none\"/>\n",
              "    <path d=\"M18.56 5.44l.94 2.06.94-2.06 2.06-.94-2.06-.94-.94-2.06-.94 2.06-2.06.94zm-11 1L8.5 8.5l.94-2.06 2.06-.94-2.06-.94L8.5 2.5l-.94 2.06-2.06.94zm10 10l.94 2.06.94-2.06 2.06-.94-2.06-.94-.94-2.06-.94 2.06-2.06.94z\"/><path d=\"M17.41 7.96l-1.37-1.37c-.4-.4-.92-.59-1.43-.59-.52 0-1.04.2-1.43.59L10.3 9.45l-7.72 7.72c-.78.78-.78 2.05 0 2.83L4 21.41c.39.39.9.59 1.41.59.51 0 1.02-.2 1.41-.59l7.78-7.78 2.81-2.81c.8-.78.8-2.07 0-2.86zM5.41 20L4 18.59l7.72-7.72 1.47 1.35L5.41 20z\"/>\n",
              "  </svg>\n",
              "      </button>\n",
              "      \n",
              "  <style>\n",
              "    .colab-df-container {\n",
              "      display:flex;\n",
              "      flex-wrap:wrap;\n",
              "      gap: 12px;\n",
              "    }\n",
              "\n",
              "    .colab-df-convert {\n",
              "      background-color: #E8F0FE;\n",
              "      border: none;\n",
              "      border-radius: 50%;\n",
              "      cursor: pointer;\n",
              "      display: none;\n",
              "      fill: #1967D2;\n",
              "      height: 32px;\n",
              "      padding: 0 0 0 0;\n",
              "      width: 32px;\n",
              "    }\n",
              "\n",
              "    .colab-df-convert:hover {\n",
              "      background-color: #E2EBFA;\n",
              "      box-shadow: 0px 1px 2px rgba(60, 64, 67, 0.3), 0px 1px 3px 1px rgba(60, 64, 67, 0.15);\n",
              "      fill: #174EA6;\n",
              "    }\n",
              "\n",
              "    [theme=dark] .colab-df-convert {\n",
              "      background-color: #3B4455;\n",
              "      fill: #D2E3FC;\n",
              "    }\n",
              "\n",
              "    [theme=dark] .colab-df-convert:hover {\n",
              "      background-color: #434B5C;\n",
              "      box-shadow: 0px 1px 3px 1px rgba(0, 0, 0, 0.15);\n",
              "      filter: drop-shadow(0px 1px 2px rgba(0, 0, 0, 0.3));\n",
              "      fill: #FFFFFF;\n",
              "    }\n",
              "  </style>\n",
              "\n",
              "      <script>\n",
              "        const buttonEl =\n",
              "          document.querySelector('#df-c687e6d2-99c0-4160-82b4-a888f71ebbce button.colab-df-convert');\n",
              "        buttonEl.style.display =\n",
              "          google.colab.kernel.accessAllowed ? 'block' : 'none';\n",
              "\n",
              "        async function convertToInteractive(key) {\n",
              "          const element = document.querySelector('#df-c687e6d2-99c0-4160-82b4-a888f71ebbce');\n",
              "          const dataTable =\n",
              "            await google.colab.kernel.invokeFunction('convertToInteractive',\n",
              "                                                     [key], {});\n",
              "          if (!dataTable) return;\n",
              "\n",
              "          const docLinkHtml = 'Like what you see? Visit the ' +\n",
              "            '<a target=\"_blank\" href=https://colab.research.google.com/notebooks/data_table.ipynb>data table notebook</a>'\n",
              "            + ' to learn more about interactive tables.';\n",
              "          element.innerHTML = '';\n",
              "          dataTable['output_type'] = 'display_data';\n",
              "          await google.colab.output.renderOutput(dataTable, element);\n",
              "          const docLink = document.createElement('div');\n",
              "          docLink.innerHTML = docLinkHtml;\n",
              "          element.appendChild(docLink);\n",
              "        }\n",
              "      </script>\n",
              "    </div>\n",
              "  </div>\n",
              "  "
            ]
          },
          "metadata": {},
          "execution_count": 3
        }
      ]
    },
    {
      "cell_type": "markdown",
      "source": [
        "3.1.2 Data Preprocessing dengan pemrograman fungsi"
      ],
      "metadata": {
        "id": "0dOTJD0d8K_E"
      }
    },
    {
      "cell_type": "code",
      "source": [
        "import pandas as pd\n",
        "import numpy as np\n",
        "np.random.seed(42)\n",
        "\n",
        "def create_random_dataframe(nb_rows=1000, percent_na_per_column=[0.01, 0.1, 0.9]):\n",
        "  df= pd.DataFrame()\n",
        "  for i, percent_na in enumerate(percent_na_per_column):\n",
        "    values= [np.random.random() if np.random.random() > percent_na else np.nan for _ in range(nb_rows)]\n",
        "    df[f'val_{i}']= values\n",
        "  df.index= pd.date_range('2023/02/14', periods= nb_rows, freq= 'H')\n",
        "  return df\n",
        "\n",
        "def create_col_with_too_many_nas_remover(na_percentage= 0.2):\n",
        "  def remover(df):\n",
        "    na_df= df.isna().sum() / len(df)\n",
        "    list_col_to_keep= na_df[na_df < na_percentage].index\n",
        "    return df[list_col_to_keep]\n",
        "  return remover\n",
        "\n",
        "def create_resampler(resampling_str):\n",
        "  def resampler(df):\n",
        "    return df.resample(resampling_str).mean()\n",
        "  return resampler\n",
        "\n",
        "def fill_na(df):\n",
        "  return df.interpolate().ffill().bfill()\n",
        "\n",
        "random_df= create_random_dataframe()\n",
        "remover= create_col_with_too_many_nas_remover()\n",
        "resampler= create_resampler('2H')\n",
        "res= fill_na(resampler(remover(random_df)))\n",
        "res"
      ],
      "metadata": {
        "colab": {
          "base_uri": "https://localhost:8080/",
          "height": 423
        },
        "id": "rVWhVHrg8Rhq",
        "outputId": "b711d6ba-863f-466b-cc05-43a256db4b91"
      },
      "execution_count": null,
      "outputs": [
        {
          "output_type": "execute_result",
          "data": {
            "text/plain": [
              "                        val_0     val_1\n",
              "2023-02-14 00:00:00  0.774686  0.147131\n",
              "2023-02-14 02:00:00  0.511085  0.362957\n",
              "2023-02-14 04:00:00  0.838991  0.261706\n",
              "2023-02-14 06:00:00  0.197872  0.589102\n",
              "2023-02-14 08:00:00  0.407993  0.257553\n",
              "...                       ...       ...\n",
              "2023-03-27 06:00:00  0.674888  0.433584\n",
              "2023-03-27 08:00:00  0.685168  0.515360\n",
              "2023-03-27 10:00:00  0.822288  0.125944\n",
              "2023-03-27 12:00:00  0.281785  0.827302\n",
              "2023-03-27 14:00:00  0.612985  0.362622\n",
              "\n",
              "[500 rows x 2 columns]"
            ],
            "text/html": [
              "\n",
              "  <div id=\"df-1830de59-02cf-4419-a208-7529c2ba33e9\">\n",
              "    <div class=\"colab-df-container\">\n",
              "      <div>\n",
              "<style scoped>\n",
              "    .dataframe tbody tr th:only-of-type {\n",
              "        vertical-align: middle;\n",
              "    }\n",
              "\n",
              "    .dataframe tbody tr th {\n",
              "        vertical-align: top;\n",
              "    }\n",
              "\n",
              "    .dataframe thead th {\n",
              "        text-align: right;\n",
              "    }\n",
              "</style>\n",
              "<table border=\"1\" class=\"dataframe\">\n",
              "  <thead>\n",
              "    <tr style=\"text-align: right;\">\n",
              "      <th></th>\n",
              "      <th>val_0</th>\n",
              "      <th>val_1</th>\n",
              "    </tr>\n",
              "  </thead>\n",
              "  <tbody>\n",
              "    <tr>\n",
              "      <th>2023-02-14 00:00:00</th>\n",
              "      <td>0.774686</td>\n",
              "      <td>0.147131</td>\n",
              "    </tr>\n",
              "    <tr>\n",
              "      <th>2023-02-14 02:00:00</th>\n",
              "      <td>0.511085</td>\n",
              "      <td>0.362957</td>\n",
              "    </tr>\n",
              "    <tr>\n",
              "      <th>2023-02-14 04:00:00</th>\n",
              "      <td>0.838991</td>\n",
              "      <td>0.261706</td>\n",
              "    </tr>\n",
              "    <tr>\n",
              "      <th>2023-02-14 06:00:00</th>\n",
              "      <td>0.197872</td>\n",
              "      <td>0.589102</td>\n",
              "    </tr>\n",
              "    <tr>\n",
              "      <th>2023-02-14 08:00:00</th>\n",
              "      <td>0.407993</td>\n",
              "      <td>0.257553</td>\n",
              "    </tr>\n",
              "    <tr>\n",
              "      <th>...</th>\n",
              "      <td>...</td>\n",
              "      <td>...</td>\n",
              "    </tr>\n",
              "    <tr>\n",
              "      <th>2023-03-27 06:00:00</th>\n",
              "      <td>0.674888</td>\n",
              "      <td>0.433584</td>\n",
              "    </tr>\n",
              "    <tr>\n",
              "      <th>2023-03-27 08:00:00</th>\n",
              "      <td>0.685168</td>\n",
              "      <td>0.515360</td>\n",
              "    </tr>\n",
              "    <tr>\n",
              "      <th>2023-03-27 10:00:00</th>\n",
              "      <td>0.822288</td>\n",
              "      <td>0.125944</td>\n",
              "    </tr>\n",
              "    <tr>\n",
              "      <th>2023-03-27 12:00:00</th>\n",
              "      <td>0.281785</td>\n",
              "      <td>0.827302</td>\n",
              "    </tr>\n",
              "    <tr>\n",
              "      <th>2023-03-27 14:00:00</th>\n",
              "      <td>0.612985</td>\n",
              "      <td>0.362622</td>\n",
              "    </tr>\n",
              "  </tbody>\n",
              "</table>\n",
              "<p>500 rows × 2 columns</p>\n",
              "</div>\n",
              "      <button class=\"colab-df-convert\" onclick=\"convertToInteractive('df-1830de59-02cf-4419-a208-7529c2ba33e9')\"\n",
              "              title=\"Convert this dataframe to an interactive table.\"\n",
              "              style=\"display:none;\">\n",
              "        \n",
              "  <svg xmlns=\"http://www.w3.org/2000/svg\" height=\"24px\"viewBox=\"0 0 24 24\"\n",
              "       width=\"24px\">\n",
              "    <path d=\"M0 0h24v24H0V0z\" fill=\"none\"/>\n",
              "    <path d=\"M18.56 5.44l.94 2.06.94-2.06 2.06-.94-2.06-.94-.94-2.06-.94 2.06-2.06.94zm-11 1L8.5 8.5l.94-2.06 2.06-.94-2.06-.94L8.5 2.5l-.94 2.06-2.06.94zm10 10l.94 2.06.94-2.06 2.06-.94-2.06-.94-.94-2.06-.94 2.06-2.06.94z\"/><path d=\"M17.41 7.96l-1.37-1.37c-.4-.4-.92-.59-1.43-.59-.52 0-1.04.2-1.43.59L10.3 9.45l-7.72 7.72c-.78.78-.78 2.05 0 2.83L4 21.41c.39.39.9.59 1.41.59.51 0 1.02-.2 1.41-.59l7.78-7.78 2.81-2.81c.8-.78.8-2.07 0-2.86zM5.41 20L4 18.59l7.72-7.72 1.47 1.35L5.41 20z\"/>\n",
              "  </svg>\n",
              "      </button>\n",
              "      \n",
              "  <style>\n",
              "    .colab-df-container {\n",
              "      display:flex;\n",
              "      flex-wrap:wrap;\n",
              "      gap: 12px;\n",
              "    }\n",
              "\n",
              "    .colab-df-convert {\n",
              "      background-color: #E8F0FE;\n",
              "      border: none;\n",
              "      border-radius: 50%;\n",
              "      cursor: pointer;\n",
              "      display: none;\n",
              "      fill: #1967D2;\n",
              "      height: 32px;\n",
              "      padding: 0 0 0 0;\n",
              "      width: 32px;\n",
              "    }\n",
              "\n",
              "    .colab-df-convert:hover {\n",
              "      background-color: #E2EBFA;\n",
              "      box-shadow: 0px 1px 2px rgba(60, 64, 67, 0.3), 0px 1px 3px 1px rgba(60, 64, 67, 0.15);\n",
              "      fill: #174EA6;\n",
              "    }\n",
              "\n",
              "    [theme=dark] .colab-df-convert {\n",
              "      background-color: #3B4455;\n",
              "      fill: #D2E3FC;\n",
              "    }\n",
              "\n",
              "    [theme=dark] .colab-df-convert:hover {\n",
              "      background-color: #434B5C;\n",
              "      box-shadow: 0px 1px 3px 1px rgba(0, 0, 0, 0.15);\n",
              "      filter: drop-shadow(0px 1px 2px rgba(0, 0, 0, 0.3));\n",
              "      fill: #FFFFFF;\n",
              "    }\n",
              "  </style>\n",
              "\n",
              "      <script>\n",
              "        const buttonEl =\n",
              "          document.querySelector('#df-1830de59-02cf-4419-a208-7529c2ba33e9 button.colab-df-convert');\n",
              "        buttonEl.style.display =\n",
              "          google.colab.kernel.accessAllowed ? 'block' : 'none';\n",
              "\n",
              "        async function convertToInteractive(key) {\n",
              "          const element = document.querySelector('#df-1830de59-02cf-4419-a208-7529c2ba33e9');\n",
              "          const dataTable =\n",
              "            await google.colab.kernel.invokeFunction('convertToInteractive',\n",
              "                                                     [key], {});\n",
              "          if (!dataTable) return;\n",
              "\n",
              "          const docLinkHtml = 'Like what you see? Visit the ' +\n",
              "            '<a target=\"_blank\" href=https://colab.research.google.com/notebooks/data_table.ipynb>data table notebook</a>'\n",
              "            + ' to learn more about interactive tables.';\n",
              "          element.innerHTML = '';\n",
              "          dataTable['output_type'] = 'display_data';\n",
              "          await google.colab.output.renderOutput(dataTable, element);\n",
              "          const docLink = document.createElement('div');\n",
              "          docLink.innerHTML = docLinkHtml;\n",
              "          element.appendChild(docLink);\n",
              "        }\n",
              "      </script>\n",
              "    </div>\n",
              "  </div>\n",
              "  "
            ]
          },
          "metadata": {},
          "execution_count": 2
        }
      ]
    },
    {
      "cell_type": "markdown",
      "source": [
        "Tugas individu: Analisis skrip code diatas sebelumm dan sesudah di transformasi menjadi functional programming."
      ],
      "metadata": {
        "id": "tjmlDFYfLuBT"
      }
    },
    {
      "cell_type": "markdown",
      "source": [
        "Jawab: dengan prosedural programming program diatas lebih terstruktur, dan jika dengan functional programming lebih banyak membuat fungsi didalamnya, semuanya dibuat fungsi terlebih dahulu terus kita panggil fungsi tersebut baru di eksekusi"
      ],
      "metadata": {
        "id": "9me4w5ZtMDLg"
      }
    },
    {
      "cell_type": "markdown",
      "source": [
        "3.1.3 Bagaimana mengubah prosedural programming ke functional programming"
      ],
      "metadata": {
        "id": "Ga5k76noDXqS"
      }
    },
    {
      "cell_type": "code",
      "source": [
        "starting_number= 96\n",
        "square= starting_number ** 2\n",
        "increment= square + 1\n",
        "cube= increment ** 3\n",
        "decrement= cube - 1\n",
        "result= print(decrement) "
      ],
      "metadata": {
        "colab": {
          "base_uri": "https://localhost:8080/"
        },
        "id": "ZzKRQtR8DopZ",
        "outputId": "2f7c23ab-f9cb-4a3c-96ae-f36d00a9a2a9"
      },
      "execution_count": null,
      "outputs": [
        {
          "output_type": "stream",
          "name": "stdout",
          "text": [
            "783012621312\n"
          ]
        }
      ]
    },
    {
      "cell_type": "code",
      "source": [
        "def call(x, f):\n",
        "  return f(x)\n",
        "square= lambda x: x*x\n",
        "increment= lambda x: x + 1\n",
        "cube= lambda x: x*x*x\n",
        "decrement= lambda x: x - 1\n",
        "funcs= [square, increment, cube, decrement]\n",
        "\n",
        "from functools import reduce\n",
        "print(reduce(call, funcs, 96))\n"
      ],
      "metadata": {
        "colab": {
          "base_uri": "https://localhost:8080/"
        },
        "id": "LHRni7aFEIr_",
        "outputId": "8c86594f-272b-4265-eeee-46124a8a692a"
      },
      "execution_count": null,
      "outputs": [
        {
          "output_type": "stream",
          "name": "stdout",
          "text": [
            "783012621312\n"
          ]
        }
      ]
    }
  ]
}