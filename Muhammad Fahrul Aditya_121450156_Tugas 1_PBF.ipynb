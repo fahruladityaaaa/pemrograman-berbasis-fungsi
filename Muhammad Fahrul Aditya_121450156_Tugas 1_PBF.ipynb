{
 "cells": [
  {
   "cell_type": "markdown",
   "id": "a3200814",
   "metadata": {},
   "source": [
    "Nama   : Muhammad Fahrul Aditya\n",
    "NIM    : 121450156\n",
    "Kelas  : RA\n",
    "\n",
    "\n",
    "\n",
    "Nomer 1\n",
    "jelaskan menggunakan tabel mengenai kelebihan dan kekurangan \n",
    "paradigma procedural dibandingkan dengan object oriented (minimal 3) !\n"
   ]
  },
  {
   "cell_type": "code",
   "execution_count": 3,
   "id": "ca7f416a",
   "metadata": {},
   "outputs": [],
   "source": [
    "import pandas as pd"
   ]
  },
  {
   "cell_type": "code",
   "execution_count": 12,
   "id": "e15a8198",
   "metadata": {},
   "outputs": [
    {
     "name": "stdout",
     "output_type": "stream",
     "text": [
      "                               kelebihan  \\\n",
      "0  Mudah dipahami oleh programmer pemula   \n",
      "1   penggunaan memory yang lebih sedikit   \n",
      "2    penulisan program lebih terstruktur   \n",
      "\n",
      "                                          kekurangan  \n",
      "0          Prosedural tidak memiliki access modifier  \n",
      "1  Tidak ada proses sederhana untuk menambahkan data  \n",
      "2                kurang aman dibandingkan dengan oop  \n"
     ]
    }
   ],
   "source": [
    "procedural= {'kelebihan': ['Mudah dipahami oleh programmer pemula',\n",
    "                          'penggunaan memory yang lebih sedikit',\n",
    "                          'penulisan program lebih terstruktur'],\n",
    "           'kekurangan': ['Prosedural tidak memiliki access modifier',\n",
    "                          'Tidak ada proses sederhana untuk menambahkan data',\n",
    "                          'kurang aman dibandingkan dengan oop']}\n",
    "df= pd.DataFrame(procedural)\n",
    "print(df)"
   ]
  },
  {
   "cell_type": "markdown",
   "id": "a1dca915",
   "metadata": {},
   "source": [
    "Nomer 2\n",
    "jelaskan menggunakan tabel mengenai kelebihan dan kekurangan \n",
    "paradigma object oriented dibandingkan dengan functional (minimal 3] !"
   ]
  },
  {
   "cell_type": "code",
   "execution_count": 14,
   "id": "1f724383",
   "metadata": {},
   "outputs": [
    {
     "name": "stdout",
     "output_type": "stream",
     "text": [
      "                                   kelebihan  \\\n",
      "0              OOP memiliki access modifiers   \n",
      "1  objek data baru dapat dibuat dengan mudah   \n",
      "2             Menyediakan penyembunyian data   \n",
      "\n",
      "                            kekurangan  \n",
      "0  tidak mendukung pemrograman paralel  \n",
      "1  penggunaan memory yang lebih banyak  \n",
      "2         pembuatan program lebih lama  \n"
     ]
    }
   ],
   "source": [
    "oop= {'kelebihan':['OOP memiliki access modifiers',\n",
    "                   'objek data baru dapat dibuat dengan mudah',\n",
    "                   'Menyediakan penyembunyian data'],\n",
    "     'kekurangan':['tidak mendukung pemrograman paralel',\n",
    "                   'penggunaan memory yang lebih banyak',\n",
    "                   'pembuatan program lebih lama']}\n",
    "df= pd.DataFrame(oop)\n",
    "print(df)"
   ]
  },
  {
   "cell_type": "markdown",
   "id": "1bb4123c",
   "metadata": {},
   "source": [
    "Nomer 3\n",
    "Jelaskan menggunakan tabel mengenai kelebihan dan kekurangan \n",
    "paradigma procedural dibandingkan dengan functional (minimal 3) !"
   ]
  },
  {
   "cell_type": "code",
   "execution_count": 15,
   "id": "7bd27825",
   "metadata": {},
   "outputs": [
    {
     "name": "stdout",
     "output_type": "stream",
     "text": [
      "                                kelebihan  \\\n",
      "0           mendukung pemrograman paralel   \n",
      "1       menggunakan rekursi untuk iterasi   \n",
      "2  mengikuti model pemrograman deklaratif   \n",
      "\n",
      "                                          kekurangan  \n",
      "0               tidak menyediakan penyembunyian data  \n",
      "1  Untuk menambahkan data dan fungsi baru tidakla...  \n",
      "2                      Tidak memiliki penentu akses.  \n"
     ]
    }
   ],
   "source": [
    "functional= {'kelebihan':['mendukung pemrograman paralel',\n",
    "                          'menggunakan rekursi untuk iterasi',\n",
    "                          'mengikuti model pemrograman deklaratif'],\n",
    "            'kekurangan':['tidak menyediakan penyembunyian data',\n",
    "                          'Untuk menambahkan data dan fungsi baru tidaklah mudah',\n",
    "                          'Tidak memiliki penentu akses.']}\n",
    "df= pd.DataFrame(functional)\n",
    "print(df)"
   ]
  },
  {
   "cell_type": "markdown",
   "id": "24a22c57",
   "metadata": {},
   "source": [
    "Nomer 4\n",
    "Apa yang dimaksud dengan pure functional programming language?"
   ]
  },
  {
   "cell_type": "markdown",
   "id": "57dbcd67",
   "metadata": {},
   "source": [
    "pemrograman fungsional murni biasanya menunjuk paradigma pemrograman, gaya membangun struktur dan elemen program komputer yang memperlakukan semua komputasi sebagai evaluasi fungsi matematika.\n",
    "Pemrograman fungsional murni terdiri dari memastikan bahwa fungsi, di dalam paradigma fungsional, hanya akan bergantung pada argumen mereka, terlepas dari keadaan global atau lokal mana pun. Subrutin fungsional murni hanya memiliki visibilitas perubahan keadaan yang diwakili oleh variabel keadaan yang termasuk dalam ruang lingkupnya."
   ]
  },
  {
   "cell_type": "markdown",
   "id": "b5f21ed7",
   "metadata": {},
   "source": [
    "Nomer 5\n",
    "Dari bahasa pemrograman FP di slide sebelumnya ( slide 14 ) , manakah \n",
    "yang termasuk pure functional programming language?"
   ]
  },
  {
   "cell_type": "markdown",
   "id": "f7e88dac",
   "metadata": {},
   "source": [
    "Lisp, Haskell, Javascript"
   ]
  },
  {
   "cell_type": "markdown",
   "id": "056f8a87",
   "metadata": {},
   "source": [
    "Nomer 6\n",
    "Membuat program Simple Password encryption, dengan ketentuan\n",
    "1. Input password bertipe string dengan batasan panjang password \n",
    "100 karakter\n",
    "2. Setiap karakter dari string tersebut diubah menjadi ASCII value\n",
    "3. Kemudian setiap ASCII value tersebut dikembangkan menjadi 3 \n",
    "\n",
    "value dengan dilakukan operasi berikut:\n",
    "1. Value pertama dibagi dengan integer 26 kemudian \n",
    "dibulatkan dan dijumlahkan dengan 80 kemudian diubah \n",
    "kembali menjadi karakter\n",
    "2. Value kedua dihitung sisa bagi dengan 26 kemudian \n",
    "dijumlahkan dengan 80 kemudian diubah kembali menjadi \n",
    "karakter\n",
    "3. Value ketiga adalah karakter ‘+’ jika value pertama lebih \n",
    "besar dari value kedua, atau value ketiga adalah karakter ‘-’ \n",
    "jika value pertama tidak lebih besar dari value kedua\n",
    "4. Deretkan value pertama, kedua dan ketiga untuk setiap karakter \n",
    "dalam password tersebut sehingga didapatkan password dalam \n",
    "bentuk baru\n"
   ]
  },
  {
   "cell_type": "code",
   "execution_count": 21,
   "id": "9b1486ef",
   "metadata": {},
   "outputs": [],
   "source": [
    "def encrypt_password(pas):\n",
    "    if len(pas) > 100:\n",
    "        return \"Error: kata terlalu banyak\"\n",
    "    \n",
    "    encrypted_password= \" \"\n",
    "    for char in pas:\n",
    "        ascii_value= ord(char)\n",
    "        first_value= round((ascii_value / 26)) + 80\n",
    "        second_value= (ascii_value % 26) + 80\n",
    "        third_value= '+' if first_value > second_value else '_'\n",
    "        encrypted_password += chr(first_value) + chr(second_value) + third_value\n",
    "    return encrypted_password"
   ]
  },
  {
   "cell_type": "code",
   "execution_count": 23,
   "id": "472a4951",
   "metadata": {},
   "outputs": [
    {
     "name": "stdout",
     "output_type": "stream",
     "text": [
      " T[_TQ+Tc_TX_TR+Tc_Tf_TQ+Tf_Tc_T\\_Tc_T[_Te_TQ+Tg_TV_T\\_TQ+T[_T\\_\n"
     ]
    }
   ],
   "source": [
    "print(encrypt_password(\"siapjadidatascientist\"))"
   ]
  }
 ],
 "metadata": {
  "kernelspec": {
   "display_name": "Python 3 (ipykernel)",
   "language": "python",
   "name": "python3"
  },
  "language_info": {
   "codemirror_mode": {
    "name": "ipython",
    "version": 3
   },
   "file_extension": ".py",
   "mimetype": "text/x-python",
   "name": "python",
   "nbconvert_exporter": "python",
   "pygments_lexer": "ipython3",
   "version": "3.9.6"
  }
 },
 "nbformat": 4,
 "nbformat_minor": 5
}
